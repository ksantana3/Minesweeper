{
  "nbformat": 4,
  "nbformat_minor": 0,
  "metadata": {
    "colab": {
      "name": "Minesweeper",
      "version": "0.3.2",
      "provenance": [],
      "collapsed_sections": [],
      "include_colab_link": true
    },
    "kernelspec": {
      "name": "python3",
      "display_name": "Python 3"
    }
  },
  "cells": [
    {
      "cell_type": "markdown",
      "metadata": {
        "id": "view-in-github",
        "colab_type": "text"
      },
      "source": [
        "<a href=\"https://colab.research.google.com/github/ksantana3/Minesweeper/blob/master/Minesweeper.ipynb\" target=\"_parent\"><img src=\"https://colab.research.google.com/assets/colab-badge.svg\" alt=\"Open In Colab\"/></a>"
      ]
    },
    {
      "metadata": {
        "id": "V0emDPO0ZWin",
        "colab_type": "text"
      },
      "cell_type": "markdown",
      "source": [
        "# Minesweeper"
      ]
    },
    {
      "metadata": {
        "id": "9E5j3e_VR0Eo",
        "colab_type": "code",
        "colab": {}
      },
      "cell_type": "code",
      "source": [
        "\n",
        "def mine_sweeper(bombs, num_rows, num_cols):\n",
        "    grid = [[0 for i in range(num_cols)] for j in range(num_rows)]\n",
        "    for bomb_location in bombs:\n",
        "        (row_range, col_range) = bomb_location\n",
        "        grid[row_range][col_range] = -1\n",
        "        for i in range(row_range - 1, row_range + 2):\n",
        "            for j in range(col_range - 1, col_range + 2):\n",
        "                if (0 <= i < num_rows and 0 <= j < num_cols\n",
        "                        and grid[i][j] != -1):\n",
        "                    grid[i][j] += 1\n",
        "    return grid\n",
        "\n"
      ],
      "execution_count": 0,
      "outputs": []
    },
    {
      "metadata": {
        "id": "V8N5RmlkR2dm",
        "colab_type": "code",
        "colab": {
          "base_uri": "https://localhost:8080/",
          "height": 84
        },
        "outputId": "ec9f4e82-5e68-442f-e811-08dd96e7f33c"
      },
      "cell_type": "code",
      "source": [
        "\n",
        "mine_sweeper([[1, 2], [2, 3],[0,0]], 4, 6) \n",
        "# should return:\n",
        "#[[-1, 2, 1, 1, 0, 0],\n",
        "# [1, 2, -1, 2, 1, 0],\n",
        "# [0, 1, 2, -1, 1, 0],\n",
        "# [0, 0, 1, 1, 1, 0]]"
      ],
      "execution_count": 14,
      "outputs": [
        {
          "output_type": "execute_result",
          "data": {
            "text/plain": [
              "[[-1, 2, 1, 1, 0, 0],\n",
              " [1, 2, -1, 2, 1, 0],\n",
              " [0, 1, 2, -1, 1, 0],\n",
              " [0, 0, 1, 1, 1, 0]]"
            ]
          },
          "metadata": {
            "tags": []
          },
          "execution_count": 14
        }
      ]
    },
    {
      "metadata": {
        "id": "ekYFU6EqSPqU",
        "colab_type": "code",
        "colab": {}
      },
      "cell_type": "code",
      "source": [
        "grid = mine_sweeper([[1, 2], [2, 3],[0,0]], 4, 6) "
      ],
      "execution_count": 0,
      "outputs": []
    },
    {
      "metadata": {
        "id": "2rihkpQiVeCx",
        "colab_type": "code",
        "colab": {}
      },
      "cell_type": "code",
      "source": [
        "\n",
        "        \n"
      ],
      "execution_count": 0,
      "outputs": []
    },
    {
      "metadata": {
        "id": "kAXNrdvgYZVC",
        "colab_type": "code",
        "colab": {}
      },
      "cell_type": "code",
      "source": [
        ""
      ],
      "execution_count": 0,
      "outputs": []
    }
  ]
}